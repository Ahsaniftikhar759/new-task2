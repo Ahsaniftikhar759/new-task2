{
 "cells": [
  {
   "cell_type": "code",
   "execution_count": 1,
   "metadata": {},
   "outputs": [
    {
     "name": "stdout",
     "output_type": "stream",
     "text": [
      "ahsan\n"
     ]
    }
   ],
   "source": [
    "# \"Store a message in a variable, and then print that message.\"\n",
    "a=\"ahsan\"\n",
    "print(a)"
   ]
  },
  {
   "cell_type": "code",
   "execution_count": 5,
   "metadata": {},
   "outputs": [
    {
     "name": "stdout",
     "output_type": "stream",
     "text": [
      "ahsan\n",
      "ali\n"
     ]
    }
   ],
   "source": [
    "#\"Store a message in a variable, and print that message.\\n\",\"Then change the value of your variable to a new message, and print the new\\n\",message.\"\n",
    "a=\"ahsan\"\n",
    "print(a)\n",
    "\n",
    "print(a.replace(\"ahsan\",\"ali\"))\n",
    " "
   ]
  },
  {
   "cell_type": "code",
   "execution_count": 6,
   "metadata": {},
   "outputs": [
    {
     "name": "stdout",
     "output_type": "stream",
     "text": [
      "hello ahsan would you like to learn some python today?\n"
     ]
    }
   ],
   "source": [
    "# \"Store a person’s name in a variable, and print a message to that person. Your message should be simple, such as, “Hello Shahzad,\\n\",\n",
    "#    \"would you like to learn some Python today?”\"\n",
    "a=\"ahsan\"\n",
    "print(f\"hello {a} would you like to learn some python today?\")"
   ]
  },
  {
   "cell_type": "code",
   "execution_count": 9,
   "metadata": {},
   "outputs": [
    {
     "name": "stdout",
     "output_type": "stream",
     "text": [
      "ahsan\n",
      "AHSAN\n"
     ]
    }
   ],
   "source": [
    "#\"Store a person’s name in a variable, and then print that person’s name in lowercase, uppercase, and titlecase.\"\n",
    "a=\"Ahsan\"\n",
    "print(a.lower())\n",
    "print(a.upper())"
   ]
  },
  {
   "cell_type": "code",
   "execution_count": 11,
   "metadata": {},
   "outputs": [
    {
     "name": "stdout",
     "output_type": "stream",
     "text": [
      "Ahsan\n"
     ]
    }
   ],
   "source": [
    "print(a.title())\n"
   ]
  },
  {
   "cell_type": "code",
   "execution_count": 12,
   "metadata": {},
   "outputs": [
    {
     "name": "stdout",
     "output_type": "stream",
     "text": [
      "True\n"
     ]
    }
   ],
   "source": [
    "print(a.istitle())"
   ]
  },
  {
   "cell_type": "code",
   "execution_count": 22,
   "metadata": {},
   "outputs": [
    {
     "name": "stdout",
     "output_type": "stream",
     "text": [
      "''Albert Einstein once said ,''A person who never made mistake never tried anything new''\n"
     ]
    }
   ],
   "source": [
    "# \"Albert Einstein once said, “A person who never made a\\n\",\n",
    " #   \"mistake never tried anything new.”\"\n",
    "print(\"''Albert Einstein once said ,''A person who never made mistake never tried anything new''\")    \n",
    "    "
   ]
  },
  {
   "cell_type": "code",
   "execution_count": 24,
   "metadata": {},
   "outputs": [
    {
     "name": "stdout",
     "output_type": "stream",
     "text": [
      "enter number23\n",
      "enter number5\n",
      "28\n",
      "18\n",
      "115\n",
      "4.6\n"
     ]
    }
   ],
   "source": [
    "# \"Write addition, subtraction, multiplication, and division\\n\",\n",
    " #   \"operations that each result in the number 8. Be sure to enclose your operations\\n\"\n",
    "num1=int(input(\"enter number\"))   \n",
    "num2=int(input(\"enter number\")) \n",
    "sum=num1+num2\n",
    "sub=num1-num2\n",
    "mul=num1*num2\n",
    "div=num1/num2\n",
    "print(sum)\n",
    "print(sub)\n",
    "print(mul)\n",
    "print(div)\n"
   ]
  },
  {
   "cell_type": "code",
   "execution_count": 25,
   "metadata": {},
   "outputs": [
    {
     "name": "stdout",
     "output_type": "stream",
     "text": [
      "72\n"
     ]
    }
   ],
   "source": [
    "#\"Create a variable called number1 with the value of 8.\\n\",\n",
    "#    \"Write a print statement to print number1 multiplied by 9.\n",
    "num1=8\n",
    "print(num1*9)"
   ]
  },
  {
   "cell_type": "code",
   "execution_count": 26,
   "metadata": {},
   "outputs": [
    {
     "name": "stdout",
     "output_type": "stream",
     "text": [
      "My name is ahsan  and my age is 21 \n"
     ]
    }
   ],
   "source": [
    "#  \"Store your name and your age in a varibale called my_name and my_age.\\n\",\n",
    " #   \"Use format method to print your name and your age.\\n\",\n",
    " #   \"Your final output sholud be like this:\\n\",\n",
    " #     \"OUTPUT:My name is Shahzad Ahsan and my age is 21.\n",
    "my_name=\"ahsan\"\n",
    "my_age=21\n",
    "print(f\"My name is {my_name}  and my age is {my_age} \")"
   ]
  },
  {
   "cell_type": "code",
   "execution_count": 29,
   "metadata": {},
   "outputs": [
    {
     "name": "stdout",
     "output_type": "stream",
     "text": [
      "enter number: 2\n",
      "number is positive\n"
     ]
    }
   ],
   "source": [
    "# \"Write a Python program to check if a number is positive, negative or zero.\"\n",
    "num1=int(input(\"enter number: \"))  \n",
    "if num1>0:\n",
    "    print(\"number is positive\")\n",
    "elif num1<0:\n",
    "    print(\"number is negative\")\n",
    "else:\n",
    "    print(\"number is zero\")"
   ]
  },
  {
   "cell_type": "code",
   "execution_count": 31,
   "metadata": {},
   "outputs": [
    {
     "name": "stdout",
     "output_type": "stream",
     "text": [
      "enter radius:10\n",
      "314.2\n"
     ]
    }
   ],
   "source": [
    "#   \"Write a Python program which accepts the radius of a circle from the user and compute the area.\n",
    "r=int(input(\"enter radius:\"))\n",
    "a=3.142*(r**2)\n",
    "print(a)\n"
   ]
  },
  {
   "cell_type": "code",
   "execution_count": 49,
   "metadata": {},
   "outputs": [
    {
     "name": "stdout",
     "output_type": "stream",
     "text": [
      "enter number10\n",
      "enter number2\n",
      "complete divizible\n"
     ]
    }
   ],
   "source": [
    "#   \"Write a Python function to check whether a number is completely divisible by another number. Accept two integer values form the user\"\n",
    "num1=int(input(\"enter number\"))   \n",
    "num2=int(input(\"enter number\")) \n",
    "def div():\n",
    "    a=num1%num2\n",
    "    if a==0:\n",
    "        print(\"complete divizible\")\n",
    "    else:\n",
    "        print(\"not divisible\")\n",
    "div()\n",
    "\n",
    "    "
   ]
  },
  {
   "cell_type": "code",
   "execution_count": 51,
   "metadata": {},
   "outputs": [
    {
     "name": "stdout",
     "output_type": "stream",
     "text": [
      "enter number13\n",
      "odd\n"
     ]
    }
   ],
   "source": [
    "#\"Write a Python program to find whether a given number (accept from the user) is even odd, print out an appropriate message to the user.\"\n",
    "num1=int(input(\"enter number\"))  \n",
    "if (num1%2)==0:\n",
    "    print(\"even\")\n",
    "else:\n",
    "    print(\"odd\")"
   ]
  },
  {
   "cell_type": "code",
   "execution_count": 54,
   "metadata": {},
   "outputs": [
    {
     "name": "stdout",
     "output_type": "stream",
     "text": [
      "enter numberred pill\n",
      "You stay in wonderland and see how far the rabbit hole goes\n"
     ]
    }
   ],
   "source": [
    "# \"Write an input line to ask a user whether they want to take the red pill or the blue pill.\\n\",\n",
    "#  \" If they write “red” then print “You stay in wonderland and see how far the rabbit hole goes”.\\n\",\n",
    "#   \" Elif they write “blue” then print “You wake up in your bed and believe what you want to believe.”.\\n\",\n",
    "#      Else print “That’s not an option Neo\n",
    "line=input(\"enter number\")\n",
    "if line==(\"red pill\"):\n",
    "    print(\"You stay in wonderland and see how far the rabbit hole goes\")\n",
    "elif line==(\"blue pill\"):\n",
    "    print(\"You wake up in your bed and believe what you want to believe.\")\n",
    "else:\n",
    "    print(\"That’s not an option Now\")"
   ]
  },
  {
   "cell_type": "code",
   "execution_count": null,
   "metadata": {},
   "outputs": [],
   "source": []
  }
 ],
 "metadata": {
  "kernelspec": {
   "display_name": "Python 3",
   "language": "python",
   "name": "python3"
  },
  "language_info": {
   "codemirror_mode": {
    "name": "ipython",
    "version": 3
   },
   "file_extension": ".py",
   "mimetype": "text/x-python",
   "name": "python",
   "nbconvert_exporter": "python",
   "pygments_lexer": "ipython3",
   "version": "3.7.3"
  }
 },
 "nbformat": 4,
 "nbformat_minor": 2
}
